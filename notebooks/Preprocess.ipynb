{
 "cells": [
  {
   "cell_type": "code",
   "execution_count": 1,
   "metadata": {},
   "outputs": [],
   "source": [
    "import os\n",
    "\n",
    "from pathlib import Path, PurePath"
   ]
  },
  {
   "cell_type": "code",
   "execution_count": 2,
   "metadata": {},
   "outputs": [],
   "source": [
    "import matplotlib.pyplot as plt\n",
    "\n",
    "from skimage import color, io\n",
    "from skimage.transform import rescale, resize, downscale_local_mean"
   ]
  },
  {
   "cell_type": "markdown",
   "metadata": {},
   "source": [
    "### Input and output directories (../data/raw and ../data/processed, respectively). "
   ]
  },
  {
   "cell_type": "code",
   "execution_count": 3,
   "metadata": {},
   "outputs": [],
   "source": [
    "raw_data_dir = Path(r'../data/raw')\n",
    "craftsman_dir = raw_data_dir / 'Craftsman House'\n",
    "victorian_dir = raw_data_dir / 'Victorian House'\n",
    "\n",
    "processed_data_dir = Path(r'../data/processed')\n",
    "craftsman_output_dir = processed_data_dir / 'Craftsman House'\n",
    "victorian_output_dir = processed_data_dir / 'Victorian House'"
   ]
  },
  {
   "cell_type": "code",
   "execution_count": 4,
   "metadata": {},
   "outputs": [],
   "source": [
    "oos_data_dir = raw_data_dir / 'Testing Images'\n",
    "oos_data_dir_out = processed_data_dir / 'Testing Images'"
   ]
  },
  {
   "cell_type": "code",
   "execution_count": null,
   "metadata": {},
   "outputs": [],
   "source": [
    "image = io.imread(victorian_dir / os.listdir(victorian_dir)[0])\n",
    "image_resized = resize(image, (128, 128))\n",
    "\n",
    "fig, axes = plt.subplots(nrows=1, ncols=2)\n",
    "\n",
    "ax = axes.ravel()\n",
    "ax[0].imshow(image, cmap='gray')\n",
    "ax[0].set_title(\"Original image\")\n",
    "\n",
    "ax[1].imshow(image_resized, cmap='gray')\n",
    "ax[1].set_title(\"New image\")"
   ]
  },
  {
   "cell_type": "code",
   "execution_count": 27,
   "metadata": {},
   "outputs": [],
   "source": [
    "def resize_directory(directory, output_directory, size, display_step=100):\n",
    "    \"\"\"Resizes an entire directory of images. \n",
    "\n",
    "    Args:\n",
    "        directory (`pathlib.Path`): A directory to preprocess.  Should\n",
    "            contain images.\n",
    "        size (`list`): The size of the target size.\n",
    "        display_stp (:obj:`int`, optional): How many images to process before \n",
    "            displaying an image.  \n",
    "\n",
    "    Raises:\n",
    "        ValueError: If `size` is the wrong shape (not 1x2).\n",
    "        ValueError: If `output_directory` is not a pathlib.Path object.\n",
    "    \"\"\"\n",
    "    \n",
    "    if len(size) != 2:\n",
    "        raise ValueError('`size` should be of length 2.  '\n",
    "                         'Found: {0}'.format(len(size)))\n",
    "    if not isinstance(output_directory, PurePath):\n",
    "        raise ValueError('output_directory should be a pathlib.Path object.'\n",
    "                        'Found: {0}'.format(type(output_directory)))\n",
    "    \n",
    "    output_directory.mkdir(parents=True, exist_ok=True)\n",
    "    \n",
    "    i = 0\n",
    "    existing_files = os.listdir(output_directory)\n",
    "    for image_name in os.listdir(directory):\n",
    "        i += 1\n",
    "        image_name_split = ''.join(image_name.split('.')[:-1]) # Remove filetype\n",
    "        image_out_name = image_name + str(size[0]) + 'x' + str(size[1]) + '.jpg'\n",
    "        \n",
    "        if image_out_name in existing_files:\n",
    "            print(f'Skipped: {image_name} because it is already in {output_directory}')\n",
    "            continue\n",
    "        \n",
    "        image = io.imread(directory / image_name)\n",
    "        image_resized = resize(image, (size[0], size[1]))\n",
    "        # Receiving some errors due to JPG alpha channels.  Skip those for now.  \n",
    "        # TODO: Research formats. \n",
    "        if image_resized.shape[2] == 4:\n",
    "            image_resized = color.rgba2rgb(image_resized)\n",
    "        try:\n",
    "            io.imsave(output_directory / image_out_name, image_resized)        \n",
    "        except OSError as e:\n",
    "            print(e)\n",
    "        print(f'Step: {i}.  Resized: {image_name}.  '\n",
    "              f'Old size: {image.shape[0]}x{image.shape[1]}.  '\n",
    "              f'New size: {image_resized.shape[0]}x{image_resized.shape[1]}.')\n",
    "\n",
    "        if i%display_step == 0:\n",
    "            fig, axes = plt.subplots(nrows=1, ncols=2)\n",
    "\n",
    "            ax = axes.ravel()\n",
    "            ax[0].imshow(image, cmap='gray')\n",
    "            ax[0].set_title(\"Original image\")\n",
    "\n",
    "            ax[1].imshow(image_resized, cmap='gray')\n",
    "            ax[1].set_title(\"New image\")"
   ]
  },
  {
   "cell_type": "code",
   "execution_count": 28,
   "metadata": {},
   "outputs": [],
   "source": [
    "#resize_directory(victorian_dir, victorian_output_dir, size=(128, 128))"
   ]
  },
  {
   "cell_type": "code",
   "execution_count": 29,
   "metadata": {},
   "outputs": [
    {
     "name": "stderr",
     "output_type": "stream",
     "text": [
      "WARNING:root:Lossy conversion from float64 to uint8. Range [0, 1]. Convert image to uint8 prior to saving to suppress this warning.\n"
     ]
    },
    {
     "name": "stdout",
     "output_type": "stream",
     "text": [
      "Skipped: craftsman1.PNG because it is already in ..\\data\\processed\\Testing Images\n",
      "Skipped: craftsman2.PNG because it is already in ..\\data\\processed\\Testing Images\n",
      "Skipped: victorian1.PNG because it is already in ..\\data\\processed\\Testing Images\n",
      "Skipped: victorian2.PNG because it is already in ..\\data\\processed\\Testing Images\n",
      "Step: 5.  Resized: victorian3.jpg.  Old size: 177x284.  New size: 128x128.\n"
     ]
    },
    {
     "name": "stderr",
     "output_type": "stream",
     "text": [
      "WARNING:root:Lossy conversion from float64 to uint8. Range [0, 1]. Convert image to uint8 prior to saving to suppress this warning.\n",
      "WARNING:root:Lossy conversion from float64 to uint8. Range [0, 1]. Convert image to uint8 prior to saving to suppress this warning.\n"
     ]
    },
    {
     "name": "stdout",
     "output_type": "stream",
     "text": [
      "Step: 6.  Resized: victorian3.PNG.  Old size: 710x819.  New size: 128x128.\n",
      "Step: 7.  Resized: victorian4.PNG.  Old size: 772x757.  New size: 128x128.\n"
     ]
    }
   ],
   "source": [
    "resize_directory(oos_data_dir, oos_data_dir_out, size=(128, 128))"
   ]
  },
  {
   "cell_type": "code",
   "execution_count": null,
   "metadata": {},
   "outputs": [],
   "source": [
    "#resize_directory(craftsman_dir, craftsman_output_dir, size=(128, 128))"
   ]
  },
  {
   "cell_type": "code",
   "execution_count": null,
   "metadata": {},
   "outputs": [],
   "source": [
    "import shutil\n",
    "import pdb\n",
    "\n",
    "def split_directory(directory, class_name, train_percent):\n",
    "    if train_percent >= 1:\n",
    "        raise ValueError(f\"train_percent should be < 1.0, as a percentage.\" \\\n",
    "                         f\"Received: {train_percent}\")\n",
    "    test_percent = 1 - train_percent\n",
    "    files = os.listdir(directory)\n",
    "    n_files = len(files)\n",
    "    random = np.random.rand(n_files)\n",
    "    train_use = random < train_percent\n",
    "    \n",
    "    train = [file for file, use in zip(files, train_use) if use]\n",
    "    test = [file for file, use in zip(files, train_use) if not use]\n",
    "\n",
    "    # Define train_dir\n",
    "    train_dir = directory.parent / 'train' / class_name\n",
    "    # Remove all files in train_dir\n",
    "    try:\n",
    "        shutil.rmtree(str(train_dir))\n",
    "        train_dir.mkdir(parents=True, exist_ok=True)\n",
    "    except FileNotFoundError:\n",
    "        print(f'{str(train_dir)} does not exist.')\n",
    "        # Make train_dir if it doesn't exist\n",
    "        train_dir.mkdir(parents=True, exist_ok=True)\n",
    "    \n",
    "    # Do all of the same stuff for test_dir\n",
    "    test_dir = directory.parent / 'test' / class_name\n",
    "    try:\n",
    "        shutil.rmtree(str(test_dir))\n",
    "        test_dir.mkdir(parents=True, exist_ok=True)\n",
    "    except FileNotFoundError:\n",
    "        print(f'{str(test_dir)} does not exist.')\n",
    "        test_dir.mkdir(parents=True, exist_ok=True)\n",
    "    \n",
    "    for file in train:\n",
    "        shutil.copy(str(directory / file), str(train_dir / file))\n",
    "    for file in test:\n",
    "        shutil.copy(str(directory / file), str(test_dir / file))\n",
    "        \n",
    "    train_files = os.listdir(train_dir)\n",
    "    test_files = os.listdir(test_dir)\n",
    "    \n",
    "    test_in_train = [test in train_files for test in test_files]\n",
    "    train_in_test = [train in test_files for train in train_files]\n",
    "    \n",
    "    assert not any(test_in_train)\n",
    "    assert not any(train_in_test)"
   ]
  },
  {
   "cell_type": "code",
   "execution_count": null,
   "metadata": {},
   "outputs": [],
   "source": [
    "split_directory(craftsman_output_dir, 'Craftsman', 0.7)"
   ]
  },
  {
   "cell_type": "code",
   "execution_count": null,
   "metadata": {},
   "outputs": [],
   "source": [
    "split_directory(victorian_output_dir, 'Victorian', 0.7)"
   ]
  },
  {
   "cell_type": "markdown",
   "metadata": {},
   "source": [
    "### Not really used.  Was working on automatic data sifting to remove pictures of floorplans, lamps, etc. "
   ]
  },
  {
   "cell_type": "code",
   "execution_count": null,
   "metadata": {},
   "outputs": [],
   "source": [
    "from keras.applications.resnet50 import ResNet50\n",
    "from keras.preprocessing import image\n",
    "from keras.applications.resnet50 import preprocess_input, decode_predictions\n",
    "import numpy as np"
   ]
  },
  {
   "cell_type": "code",
   "execution_count": null,
   "metadata": {},
   "outputs": [],
   "source": [
    "model = ResNet50(weights='imagenet')"
   ]
  },
  {
   "cell_type": "code",
   "execution_count": null,
   "metadata": {},
   "outputs": [],
   "source": [
    "def is_house(img_path):\n",
    "    img = image.load_img(img_path, target_size=(224, 224))\n",
    "    x = image.img_to_array(img)\n",
    "    x = np.expand_dims(x, axis=0)\n",
    "\n",
    "    x = preprocess_input(x)\n",
    "\n",
    "    preds = model.predict(x)\n",
    "    # decode the results into a list of tuples (class, description, probability)\n",
    "    # (one such list for each sample in the batch)\n",
    "    pred = [pred[1] for pred in decode_predictions(preds, top=5)[0]]\n",
    "    house = ['house' in pred for pred in pred]\n",
    "    house = any(house)\n",
    "    if not house: \n",
    "        print('Predicted:', decode_predictions(preds, top=5)[0])\n",
    "        \n",
    "        fig = plt.figure()\n",
    "        ax = fig.add_subplot(111)\n",
    "\n",
    "        ax.imshow(img)\n",
    "        ax.set_title(\"Not House\")\n",
    "        plt.show()\n",
    "        \n",
    "    return house, pred"
   ]
  },
  {
   "cell_type": "code",
   "execution_count": null,
   "metadata": {},
   "outputs": [],
   "source": [
    "preds = []\n",
    "for name in os.listdir(craftsman_output_dir)[0:1000]:\n",
    "    file_name = craftsman_output_dir / name\n",
    "    house, pred = is_house(file_name)\n",
    "    preds = preds + pred"
   ]
  }
 ],
 "metadata": {
  "kernelspec": {
   "display_name": "Python 3",
   "language": "python",
   "name": "python3"
  },
  "language_info": {
   "codemirror_mode": {
    "name": "ipython",
    "version": 3
   },
   "file_extension": ".py",
   "mimetype": "text/x-python",
   "name": "python",
   "nbconvert_exporter": "python",
   "pygments_lexer": "ipython3",
   "version": "3.7.0"
  }
 },
 "nbformat": 4,
 "nbformat_minor": 2
}
